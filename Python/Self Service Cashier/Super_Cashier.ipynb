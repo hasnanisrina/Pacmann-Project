{
  "nbformat": 4,
  "nbformat_minor": 0,
  "metadata": {
    "colab": {
      "provenance": []
    },
    "kernelspec": {
      "name": "python3",
      "display_name": "Python 3"
    },
    "language_info": {
      "name": "python"
    }
  },
  "cells": [
    {
      "cell_type": "code",
      "source": [
        "#Import library\n",
        "import pandas as pd\n",
        "from tabulate import tabulate\n",
        "\n",
        "class Transaction:\n",
        "    def __init__(self):\n",
        "        '''Fungsi inisialisasi untuk class Transaction\n",
        "        dict_txn (dict) = dictionary untuk menyimpan data transaksi (ID Transaksi Customer)\n",
        "        txn_valid (boolean) = untuk menandai apakah data yang diinput ke dalam dictionary transaksi sudah valid.\n",
        "                            Nilai awal adalah True dan bisa berubah False setelah dicek validitasnya lewat fungsi.'''\n",
        "        \n",
        "        self.dict_txn = dict()\n",
        "        self.txn_valid = True\n",
        "    \n",
        "    def add_item(self, nama, jumlah, harga):\n",
        "        '''Fungsi untuk menambahkan item yang ingin dibeli ke dalam dictionary transaksi.\n",
        "        nama (String, key) = nama item yang dibeli, key dalam dictionary\n",
        "        jumlah (int) = jumlah item yang dibeli\n",
        "        harga (int) = harga per item'''\n",
        "        \n",
        "        #mengecek tipe data integer\n",
        "        if type(jumlah)!=int:\n",
        "            print(\"Jumlah barang harus berupa angka!\")\n",
        "        \n",
        "        elif type(harga)!=int:\n",
        "            print(\"Harga barang harus berupa angka!\")\n",
        "        \n",
        "        else:\n",
        "            #memasukkan data ke dalam dictionary\n",
        "            dict_add = {nama: [jumlah, harga, jumlah*harga]}\n",
        "            self.dict_txn.update(dict_add)\n",
        "            print(f\"Item yang dibeli adalah: {nama} sejumlah {jumlah} dengan harga Rp {harga}.\")\n",
        "    \n",
        "    \n",
        "    def update_item_name(self, nama, nama_baru):\n",
        "        '''Fungsi untuk mengubah nama item dalam dictionary yang sudah diinput.\n",
        "        nama (String) = nama item sebelum diganti, key dari dictionary\n",
        "        nama_baru (String) = nama baru untuk item, menjadi key baru dari dictionary'''\n",
        "            \n",
        "        temp = self.dict_txn[nama]\n",
        "        self.dict_txn.pop(nama)\n",
        "        self.dict_txn.update({nama_baru: temp})\n",
        "        \n",
        "        #menampilkan data pesanan setelah terjadi perubahan\n",
        "        self.print_order()\n",
        "        print(f\"Mengubah nama item {nama} menjadi {nama_baru}.\")\n",
        "    \n",
        "    \n",
        "    def update_item_qty(self, nama, jumlah_baru):\n",
        "        '''Fungsi untuk mengubah jumlah item dalam dictionary yang sudah diinput.\n",
        "        nama (String) = nama item yang ingin diubah jumlahnya, key dari dictionary\n",
        "        jumlah_baru (int) = jumlah baru dari nama item yang dibeli'''\n",
        "            \n",
        "        #mengecek tipe data integer\n",
        "        if type(jumlah_baru)!=int:\n",
        "            print(\"Jumlah barang harus berupa angka!\")\n",
        "        \n",
        "        else:\n",
        "            #memasukkan data ke dalam dictionary\n",
        "            self.dict_txn[nama][0] = jumlah_baru\n",
        "            self.dict_txn[nama][2] = jumlah_baru*self.dict_txn[nama][1]\n",
        "        \n",
        "            #menampilkan data pesanan setelah terjadi perubahan\n",
        "            self.print_order()\n",
        "            print(f\"Mengubah jumlah item {nama} menjadi {jumlah_baru}.\")\n",
        "    \n",
        "    \n",
        "    def update_item_price(self, nama, harga_baru):\n",
        "        '''Fungsi untuk mengubah harga item dalam dictionary yang sudah diinput.\n",
        "        nama (String) = nama item yang ingin diubah harganya, key dari dictionary\n",
        "        harga_baru (int) = harga baru dari nama item yang dibeli'''\n",
        "\n",
        "        #mengecek tipe data integer        \n",
        "        if type(harga_baru)!=int:\n",
        "            print(\"Harga barang harus berupa angka!\")\n",
        "        \n",
        "        else:\n",
        "            #memasukkan data ke dalam dictionary\n",
        "            self.dict_txn[nama][1] = harga_baru\n",
        "            self.dict_txn[nama][2] = harga_baru*self.dict_txn[nama][0]\n",
        "            \n",
        "            #menampilkan data pesanan setelah terjadi perubahan\n",
        "            self.print_order()\n",
        "            print(f\"Mengubah harga item {nama} menjadi {harga_baru}.\")\n",
        "    \n",
        "    \n",
        "    def delete_item(self, nama):\n",
        "        '''Fungsi untuk menghapus data nama item beserta jumlah dan harganya dari dictionary.\n",
        "        nama (String) = nama item yang ingin dihapus'''\n",
        "        \n",
        "        try:\n",
        "            self.dict_txn.pop(nama)\n",
        "            print(f\"Menghapus pesanan {nama}.\")\n",
        "            print(\"\")\n",
        "            self.print_order()\n",
        "            \n",
        "        \n",
        "        except KeyError:\n",
        "            print(f\"{nama} tidak ada dalam daftar pesanan.\")\n",
        "        \n",
        "    \n",
        "    def reset_transaction(self):\n",
        "        '''Fungsi untuk menghapus semua data pesanan dalam dictionary.'''\n",
        "        \n",
        "        self.dict_txn = self.dict_txn.clear\n",
        "        print(\"Semua item berhasil dihapus.\")\n",
        "    \n",
        "\n",
        "    def print_order(self):\n",
        "        '''Fungsi untuk menampilkan semua pesanan dalam dictionary.'''\n",
        "        \n",
        "        try:\n",
        "            table_txn = pd.DataFrame(self.dict_txn).T\n",
        "            headers = [\"Nama Item\", \"Jumlah Item\", \"Harga/Item\", \"Total Harga\"]\n",
        "            print(tabulate(table_txn, headers, tablefmt=\"github\"))\n",
        "        \n",
        "        except:\n",
        "            print(\"Belum ada pemesanan.\")\n",
        "            \n",
        "            \n",
        "    def check_order(self):\n",
        "        '''Fungsi untuk mengecek validitas dan menampilkan semua pesanan dalam dictionary.'''\n",
        "        \n",
        "        try:\n",
        "            #menampilkan semua pesanan\n",
        "            table_txn = pd.DataFrame(self.dict_txn).T\n",
        "            headers = [\"Nama Item\", \"Jumlah Item\", \"Harga/Item\", \"Total Harga\"]\n",
        "            print(tabulate(table_txn, headers, tablefmt=\"github\"))\n",
        "\n",
        "            #mengecek jumlah/harga lebih dari 0\n",
        "            kolom=0\n",
        "            while kolom<2:\n",
        "                for data in table_txn[kolom]:\n",
        "                    if data<=0:\n",
        "                        self.txn_valid = False\n",
        "                kolom+=1\n",
        "\n",
        "            if self.txn_valid:\n",
        "                print(\"Pemesanan sudah benar.\")\n",
        "            else:\n",
        "                print(\"Terdapat kesalahan input jumlah/harga. Mohon cek ulang pesanan.\")\n",
        "        \n",
        "        except ValueError:\n",
        "            print(\"Belum ada pemesanan.\")\n",
        "\n",
        "            \n",
        "    def total_price(self):\n",
        "        '''Fungsi untuk menampilkan semua pesanan dan total belanja.'''\n",
        "        \n",
        "        #memastikan pesanan sudah valid sebelum menjalankan method\n",
        "        self.check_order()\n",
        "        \n",
        "        #menghitung diskon yang didapat\n",
        "        if self.txn_valid:\n",
        "\n",
        "            #menghitung total belanja\n",
        "            total_belanja = 0\n",
        "            for item in self.dict_txn:\n",
        "                total_belanja += self.dict_txn[item][2] \n",
        "\n",
        "            #menghitung diskon\n",
        "            if total_belanja>500_000:\n",
        "                diskon = int(total_belanja*0.1)\n",
        "                total_belanja = int(total_belanja-diskon)\n",
        "                print(f\"Anda mendapatkan diskon 10% sebesar Rp {diskon}. Total belanja Anda adalah Rp {total_belanja} (sudah termasuk diskon).\")        \n",
        "\n",
        "            elif total_belanja>300_000:\n",
        "                diskon = int(total_belanja*0.08)\n",
        "                total_belanja = int(total_belanja-diskon)\n",
        "                print(f\"Anda mendapatkan diskon 8% sebesar Rp {diskon}. Total belanja Anda adalah Rp {total_belanja} (sudah termasuk diskon).\")\n",
        "\n",
        "            elif total_belanja>200_000:\n",
        "                diskon = int(total_belanja*0.05)\n",
        "                total_belanja = int(total_belanja-diskon)\n",
        "                print(f\"Anda mendapatkan diskon 5% sebesar Rp {diskon}. Total belanja Anda adalah Rp {total_belanja} (sudah termasuk diskon).\")\n",
        "\n",
        "            else:\n",
        "                print(f\"Total belanja Anda adalah Rp {total_belanja}.\")\n",
        "        \n",
        "        else:\n",
        "            print(\"Total belanja belum bisa dihitung selama masih ada kesalahan input.\")"
      ],
      "metadata": {
        "id": "eI3J8XuoBsf0"
      },
      "execution_count": 1,
      "outputs": []
    },
    {
      "cell_type": "markdown",
      "source": [
        "Test Case"
      ],
      "metadata": {
        "id": "SGdL8L-yg8KN"
      }
    },
    {
      "cell_type": "code",
      "source": [
        "#Test case 1: Menambahkan item baru\n",
        "transaksi = Transaction()\n",
        "transaksi.add_item(\"Ayam Goreng\", 2, 20_000)\n",
        "transaksi.add_item(\"Pasta Gigi\", 3, 15_000)"
      ],
      "metadata": {
        "colab": {
          "base_uri": "https://localhost:8080/"
        },
        "id": "fUYmyAmPCMCA",
        "outputId": "e4ffe832-a1ba-4afd-dae7-fe07248e2899"
      },
      "execution_count": 2,
      "outputs": [
        {
          "output_type": "stream",
          "name": "stdout",
          "text": [
            "Item yang dibeli adalah: Ayam Goreng sejumlah 2 dengan harga Rp 20000.\n",
            "Item yang dibeli adalah: Pasta Gigi sejumlah 3 dengan harga Rp 15000.\n"
          ]
        }
      ]
    },
    {
      "cell_type": "code",
      "source": [
        "#Test case 2: Delete item\n",
        "transaksi.delete_item(\"Pasta Gigi\")"
      ],
      "metadata": {
        "colab": {
          "base_uri": "https://localhost:8080/"
        },
        "id": "XNnMm18SDGKJ",
        "outputId": "cc4c5312-97b3-4893-982e-88ff726fd493"
      },
      "execution_count": 3,
      "outputs": [
        {
          "output_type": "stream",
          "name": "stdout",
          "text": [
            "Menghapus pesanan Pasta Gigi.\n",
            "\n",
            "| Nama Item   |   Jumlah Item |   Harga/Item |   Total Harga |\n",
            "|-------------|---------------|--------------|---------------|\n",
            "| Ayam Goreng |             2 |        20000 |         40000 |\n"
          ]
        }
      ]
    },
    {
      "cell_type": "code",
      "source": [
        "#Test case 3: reset\n",
        "transaksi.reset_transaction()"
      ],
      "metadata": {
        "colab": {
          "base_uri": "https://localhost:8080/"
        },
        "id": "Z5lXZmcqDV5n",
        "outputId": "c1256a06-a94d-474e-d5b3-f481051c2b90"
      },
      "execution_count": 4,
      "outputs": [
        {
          "output_type": "stream",
          "name": "stdout",
          "text": [
            "Semua item berhasil dihapus.\n"
          ]
        }
      ]
    },
    {
      "cell_type": "code",
      "source": [
        "#Test case 4: total price\n",
        "transaksi = Transaction()\n",
        "transaksi.add_item(\"Ayam Goreng\", 2, 20_000)\n",
        "transaksi.add_item(\"Pasta Gigi\", 3, 15_000)\n",
        "transaksi.total_price()"
      ],
      "metadata": {
        "colab": {
          "base_uri": "https://localhost:8080/"
        },
        "id": "4-9i4K1-DX2a",
        "outputId": "480c746e-df9a-4246-fd6a-e39029269ff6"
      },
      "execution_count": 5,
      "outputs": [
        {
          "output_type": "stream",
          "name": "stdout",
          "text": [
            "Item yang dibeli adalah: Ayam Goreng sejumlah 2 dengan harga Rp 20000.\n",
            "Item yang dibeli adalah: Pasta Gigi sejumlah 3 dengan harga Rp 15000.\n",
            "| Nama Item   |   Jumlah Item |   Harga/Item |   Total Harga |\n",
            "|-------------|---------------|--------------|---------------|\n",
            "| Ayam Goreng |             2 |        20000 |         40000 |\n",
            "| Pasta Gigi  |             3 |        15000 |         45000 |\n",
            "Pemesanan sudah benar.\n",
            "Total belanja Anda adalah Rp 85000.\n"
          ]
        }
      ]
    },
    {
      "cell_type": "markdown",
      "source": [
        "Test with another case"
      ],
      "metadata": {
        "id": "H3cL5l8xg5qT"
      }
    },
    {
      "cell_type": "code",
      "source": [
        "transaksi = Transaction()\n",
        "transaksi.add_item(\"Bakmi\", 4, 5_500)\n",
        "transaksi.add_item(\"Indomie\", 10, 4_000)\n",
        "transaksi.add_item(\"Roti Tawar\", 8, 20_000)"
      ],
      "metadata": {
        "colab": {
          "base_uri": "https://localhost:8080/"
        },
        "id": "qH-OP3nsDajX",
        "outputId": "23371fd5-5c36-4c6f-c065-94b7140e3d16"
      },
      "execution_count": 6,
      "outputs": [
        {
          "output_type": "stream",
          "name": "stdout",
          "text": [
            "Item yang dibeli adalah: Bakmi sejumlah 4 dengan harga Rp 5500.\n",
            "Item yang dibeli adalah: Indomie sejumlah 10 dengan harga Rp 4000.\n",
            "Item yang dibeli adalah: Roti Tawar sejumlah 8 dengan harga Rp 20000.\n"
          ]
        }
      ]
    },
    {
      "cell_type": "code",
      "source": [
        "transaksi.update_item_name(\"Roti Tawar\", \"Roti Tawar Gandum\")"
      ],
      "metadata": {
        "id": "pXh-T_OaDfxi",
        "colab": {
          "base_uri": "https://localhost:8080/"
        },
        "outputId": "765725f3-d48c-4c72-f759-7df8becbce07"
      },
      "execution_count": 7,
      "outputs": [
        {
          "output_type": "stream",
          "name": "stdout",
          "text": [
            "| Nama Item         |   Jumlah Item |   Harga/Item |   Total Harga |\n",
            "|-------------------|---------------|--------------|---------------|\n",
            "| Bakmi             |             4 |         5500 |         22000 |\n",
            "| Indomie           |            10 |         4000 |         40000 |\n",
            "| Roti Tawar Gandum |             8 |        20000 |        160000 |\n",
            "Mengubah nama item Roti Tawar menjadi Roti Tawar Gandum.\n"
          ]
        }
      ]
    },
    {
      "cell_type": "code",
      "source": [
        " transaksi.update_item_qty(\"Bakmi\", 10)"
      ],
      "metadata": {
        "id": "809r_YgUDjkv",
        "colab": {
          "base_uri": "https://localhost:8080/"
        },
        "outputId": "6235ad0b-f968-4cfc-9df3-38e98d93b77a"
      },
      "execution_count": 8,
      "outputs": [
        {
          "output_type": "stream",
          "name": "stdout",
          "text": [
            "| Nama Item         |   Jumlah Item |   Harga/Item |   Total Harga |\n",
            "|-------------------|---------------|--------------|---------------|\n",
            "| Bakmi             |            10 |         5500 |         55000 |\n",
            "| Indomie           |            10 |         4000 |         40000 |\n",
            "| Roti Tawar Gandum |             8 |        20000 |        160000 |\n",
            "Mengubah jumlah item Bakmi menjadi 10.\n"
          ]
        }
      ]
    },
    {
      "cell_type": "code",
      "source": [
        "transaksi.update_item_price(\"Roti Tawar Gandum\", 18_000)"
      ],
      "metadata": {
        "id": "jHPhsxpMDlGL",
        "colab": {
          "base_uri": "https://localhost:8080/"
        },
        "outputId": "00199754-4bf8-4668-ce64-d317cbc3f090"
      },
      "execution_count": 9,
      "outputs": [
        {
          "output_type": "stream",
          "name": "stdout",
          "text": [
            "| Nama Item         |   Jumlah Item |   Harga/Item |   Total Harga |\n",
            "|-------------------|---------------|--------------|---------------|\n",
            "| Bakmi             |            10 |         5500 |         55000 |\n",
            "| Indomie           |            10 |         4000 |         40000 |\n",
            "| Roti Tawar Gandum |             8 |        18000 |        144000 |\n",
            "Mengubah harga item Roti Tawar Gandum menjadi 18000.\n"
          ]
        }
      ]
    },
    {
      "cell_type": "code",
      "source": [
        "transaksi.check_order()"
      ],
      "metadata": {
        "id": "UBC6WtsrDzmx",
        "colab": {
          "base_uri": "https://localhost:8080/"
        },
        "outputId": "f8261d9c-8be5-4e6a-ab00-5113d80eeb9f"
      },
      "execution_count": 10,
      "outputs": [
        {
          "output_type": "stream",
          "name": "stdout",
          "text": [
            "| Nama Item         |   Jumlah Item |   Harga/Item |   Total Harga |\n",
            "|-------------------|---------------|--------------|---------------|\n",
            "| Bakmi             |            10 |         5500 |         55000 |\n",
            "| Indomie           |            10 |         4000 |         40000 |\n",
            "| Roti Tawar Gandum |             8 |        18000 |        144000 |\n",
            "Pemesanan sudah benar.\n"
          ]
        }
      ]
    },
    {
      "cell_type": "code",
      "source": [
        "transaksi.total_price()"
      ],
      "metadata": {
        "id": "pa31jt0HDnXo",
        "colab": {
          "base_uri": "https://localhost:8080/"
        },
        "outputId": "01474a55-bf34-435e-bc52-d10ab9153a2e"
      },
      "execution_count": 11,
      "outputs": [
        {
          "output_type": "stream",
          "name": "stdout",
          "text": [
            "| Nama Item         |   Jumlah Item |   Harga/Item |   Total Harga |\n",
            "|-------------------|---------------|--------------|---------------|\n",
            "| Bakmi             |            10 |         5500 |         55000 |\n",
            "| Indomie           |            10 |         4000 |         40000 |\n",
            "| Roti Tawar Gandum |             8 |        18000 |        144000 |\n",
            "Pemesanan sudah benar.\n",
            "Anda mendapatkan diskon 5% sebesar Rp 11950. Total belanja Anda adalah Rp 227050 (sudah termasuk diskon).\n"
          ]
        }
      ]
    }
  ]
}